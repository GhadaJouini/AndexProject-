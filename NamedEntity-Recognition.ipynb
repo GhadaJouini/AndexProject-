{
 "cells": [
  {
   "cell_type": "code",
   "execution_count": 1,
   "metadata": {},
   "outputs": [],
   "source": [
    "#implort Libraries:\n",
    "import pandas as pd\n",
    "import numpy as np\n",
    "import json\n",
    "import os\n",
    "import io\n",
    "import subprocess\n",
    "import random\n",
    "import logging\n",
    "from sklearn.metrics import classification_report\n",
    "from sklearn.metrics import precision_recall_fscore_support\n",
    "from spacy.gold import GoldParse\n",
    "from spacy.scorer import Scorer\n",
    "from sklearn.metrics import accuracy_score\n",
    "from pdfminer.converter import TextConverter\n",
    "from pdfminer.pdfinterp import PDFPageInterpreter\n",
    "from pdfminer.pdfinterp import PDFResourceManager\n",
    "from pdfminer.layout import LAParams\n",
    "from pdfminer.pdfpage import PDFPage\n",
    "from pdfminer.pdfparser import PDFSyntaxError"
   ]
  },
  {
   "cell_type": "code",
   "execution_count": 2,
   "metadata": {},
   "outputs": [
    {
     "name": "stderr",
     "output_type": "stream",
     "text": [
      "[nltk_data] Downloading package punkt to\n",
      "[nltk_data]     C:\\Users\\azerty\\AppData\\Roaming\\nltk_data...\n",
      "[nltk_data]   Unzipping tokenizers\\punkt.zip.\n",
      "[nltk_data] Downloading package averaged_perceptron_tagger to\n",
      "[nltk_data]     C:\\Users\\azerty\\AppData\\Roaming\\nltk_data...\n",
      "[nltk_data]   Package averaged_perceptron_tagger is already up-to-\n",
      "[nltk_data]       date!\n"
     ]
    },
    {
     "data": {
      "text/plain": [
       "True"
      ]
     },
     "execution_count": 2,
     "metadata": {},
     "output_type": "execute_result"
    }
   ],
   "source": [
    "import nltk\n",
    "from nltk.corpus import stopwords\n",
    "import spacy\n",
    "from string import punctuation\n",
    "import docx2txt\n",
    "nltk.download('punkt')\n",
    "nltk.download('averaged_perceptron_tagger')"
   ]
  },
  {
   "cell_type": "code",
   "execution_count": 37,
   "metadata": {},
   "outputs": [],
   "source": [
    "def convert_annotation(df):\n",
    "    train_data = []\n",
    "    for index, row in df.iterrows():\n",
    "        content = convertTopdf(PATH_PDF + '/' + row.file).lower()\n",
    "        content = \" \".join(content.split())\n",
    "        print(row.file)\n",
    "        entities = extract_info(content, row.text.lower())\n",
    "        train_data.append((content, {\"entities\":entities}))\n",
    "    return train_data"
   ]
  },
  {
   "cell_type": "code",
   "execution_count": 51,
   "metadata": {},
   "outputs": [],
   "source": [
    "PATH_WORD= \"C:/Users/azerty/Downloads/Andex/Word\"\n",
    "PATH_PDF= \"C:/Users/azerty/Downloads/Andex/PDF\"\n",
    "# create blank Language class\n",
    "nlp = spacy.blank('fr')"
   ]
  },
  {
   "cell_type": "code",
   "execution_count": 52,
   "metadata": {},
   "outputs": [],
   "source": [
    "listpdf = os.listdir(PATH_PDF)\n",
    "listword = os.listdir(PATH_WORD)\n",
    "listfiles = listword + listpdf"
   ]
  },
  {
   "cell_type": "code",
   "execution_count": 33,
   "metadata": {},
   "outputs": [],
   "source": []
  },
  {
   "cell_type": "code",
   "execution_count": 53,
   "metadata": {},
   "outputs": [],
   "source": [
    "#convert files pdf to text:\n",
    "def convertTopdf(fname, pages=None):\n",
    "    if not pages:\n",
    "        pagenums = set()\n",
    "    else:\n",
    "        pagenums = set(pages)\n",
    "\n",
    "    output = io.StringIO()\n",
    "    manager = PDFResourceManager()\n",
    "    converter = TextConverter(manager, output, laparams=LAParams())\n",
    "    interpreter = PDFPageInterpreter(manager, converter)\n",
    "\n",
    "    infile = open(fname, 'rb')\n",
    "    for page in PDFPage.get_pages(infile, pagenums):\n",
    "        interpreter.process_page(page)\n",
    "    infile.close()\n",
    "    converter.close()\n",
    "    text = output.getvalue()\n",
    "    output.close\n",
    "    return text "
   ]
  },
  {
   "cell_type": "code",
   "execution_count": 54,
   "metadata": {},
   "outputs": [],
   "source": [
    "#convert files docx to text:\n",
    "def convertTodocx(doc_path):\n",
    "    try:\n",
    "        temp = docx2txt.process(doc_path)\n",
    "        text = temp.replace('\\t', '')\n",
    "        return ''.join(text)\n",
    "    except KeyError:\n",
    "        return ' '"
   ]
  },
  {
   "cell_type": "code",
   "execution_count": 55,
   "metadata": {},
   "outputs": [],
   "source": [
    "def convertTodoc(filepath, file):\n",
    "    doc_file = filepath + file\n",
    "    docx_file = filepath + file + 'x'\n",
    "    if not os.path.exists(docx_file):\n",
    "        print('antiword ' + doc_file + ' > ' + docx_file)\n",
    "        os.system('antiword ' + doc_file + ' > ' + docx_file)\n",
    "        with open(docx_file) as f:\n",
    "            text = f.read()\n",
    "            print(text)\n",
    "        os.remove(docx_file) #docx_file was just to read, so deleting\n",
    "    else:\n",
    "        print('Info : file with same name of doc exists having docx extension, so we cant read it')\n",
    "        text = ''\n",
    "    return text"
   ]
  },
  {
   "cell_type": "code",
   "execution_count": 56,
   "metadata": {},
   "outputs": [],
   "source": [
    "def find_index(content, text):\n",
    "    start = content.find(text)\n",
    "    end = len(text) + start\n",
    "    return start, end"
   ]
  },
  {
   "cell_type": "code",
   "execution_count": 57,
   "metadata": {},
   "outputs": [],
   "source": [
    "def extract_info(content, t):\n",
    "    couples = t.split(';;;')\n",
    "    info = []\n",
    "    for couple in couples:\n",
    "        text, label = couple.split(':::')\n",
    "        start=content.find(text[:50]) \n",
    "        end=start+len(text) \n",
    "        pair = (start, end, label)\n",
    "        info.append(pair)\n",
    "    return info"
   ]
  },
  {
   "cell_type": "code",
   "execution_count": 61,
   "metadata": {},
   "outputs": [],
   "source": [
    "#Data annotation:\n",
    "def convertion(df):\n",
    "    train_data = []\n",
    "    for index, row in df.iterrows():\n",
    "        content = convertTopdf(PATH_PDF + '/' + row.file).lower()\n",
    "        content = \" \".join(content.split())\n",
    "        entities = extract_info(content, row.text.lower())\n",
    "        train_data.append((content, {\"entities\":entities}))\n",
    "    print(\"conversion reussite\")\n",
    "    return train_data"
   ]
  },
  {
   "cell_type": "code",
   "execution_count": null,
   "metadata": {},
   "outputs": [],
   "source": []
  },
  {
   "cell_type": "code",
   "execution_count": 62,
   "metadata": {},
   "outputs": [],
   "source": [
    "train = pd.read_excel('C:/Users/azerty/Desktop/5DS/PROJET NLP/train.xlsx', header=0)\n",
    "\n",
    "\n"
   ]
  },
  {
   "cell_type": "code",
   "execution_count": 63,
   "metadata": {
    "scrolled": true
   },
   "outputs": [
    {
     "name": "stdout",
     "output_type": "stream",
     "text": [
      "conversion reussite\n"
     ]
    }
   ],
   "source": [
    "Train =convertion(train)"
   ]
  },
  {
   "cell_type": "code",
   "execution_count": 64,
   "metadata": {},
   "outputs": [],
   "source": [
    "#add list Labels:\n",
    "LABELS = ['job title','ville','missions','experience','contrat','formation']"
   ]
  },
  {
   "cell_type": "markdown",
   "metadata": {},
   "source": [
    "### spacy-ner-annotator\n"
   ]
  },
  {
   "cell_type": "code",
   "execution_count": 69,
   "metadata": {},
   "outputs": [],
   "source": [
    " # nlp.create_pipe works for built-ins that are registered with spaCy\n",
    "if 'ner' not in nlp.pipe_names:\n",
    "    ner = nlp.create_pipe('ner')\n",
    "    nlp.add_pipe(ner, last=True)"
   ]
  },
  {
   "cell_type": "code",
   "execution_count": 70,
   "metadata": {},
   "outputs": [],
   "source": [
    "  # add labels\n",
    "for _, annotations in Train:\n",
    "    for ent in annotations.get('entities'):\n",
    "        for label in LABELS:\n",
    "            ner.add_label(label)"
   ]
  },
  {
   "cell_type": "code",
   "execution_count": 71,
   "metadata": {},
   "outputs": [],
   "source": [
    "other_pipes = [pipe for pipe in nlp.pipe_names if pipe != 'ner']"
   ]
  },
  {
   "cell_type": "code",
   "execution_count": 72,
   "metadata": {},
   "outputs": [],
   "source": [
    "# get names of other pipes to disable them during training\n",
    "def train(Train, nlp):    \n",
    "    l = []\n",
    "    with nlp.disable_pipes(*other_pipes):  # only train NER\n",
    "        optimizer = nlp.begin_training()\n",
    "        los=501\n",
    "        for itn in range(100):\n",
    "        \n",
    "            random.shuffle(Train)\n",
    "            losses = {}\n",
    "            \n",
    "            if(los>500):\n",
    "                for text, annotations in Train:\n",
    "                    nlp.update(\n",
    "                        [text],  # batch of texts\n",
    "                        [annotations],  # batch of annotations\n",
    "                        drop=0.01,  # dropout - make it harder to memorise data\n",
    "                        sgd=optimizer,  # callable to update weights\n",
    "                        losses=losses)\n",
    "                \n",
    "                los=int(losses.get('ner'))\n",
    "                l.append([itn, losses.get('ner')])\n",
    "                \n",
    "            else:\n",
    "                return l\n",
    "            \n",
    "    return l"
   ]
  },
  {
   "cell_type": "code",
   "execution_count": 86,
   "metadata": {},
   "outputs": [],
   "source": [
    "def test(files):\n",
    "    df=pd.DataFrame(columns=[\"MissionsCOMPETENCES\"])\n",
    "    i_files=0\n",
    "    for f in files:\n",
    "        c = ''\n",
    "        i_files=i_files+1\n",
    "    \n",
    "        if 'docx' in f:\n",
    "            c = convertTodocx(PATH_WORD + '/' + f).lower().replace('\\n', '')\n",
    "        elif 'pdf' in f:\n",
    "            c = convertTopdf(PATH_PDF + '/' + f).lower().replace('\\n', '')\n",
    "        else:\n",
    "            next\n",
    "        doc2 = nlp(c)\n",
    "        for ent in doc2.ents:\n",
    "            if(ent.label_==\"missions\"):\n",
    "                df.loc[i_files]=ent.text         \n",
    "    return df  "
   ]
  },
  {
   "cell_type": "code",
   "execution_count": 87,
   "metadata": {},
   "outputs": [],
   "source": [
    "TrainedModel = train(Train, nlp)"
   ]
  },
  {
   "cell_type": "code",
   "execution_count": 88,
   "metadata": {},
   "outputs": [],
   "source": [
    "outputFiles=test(files)"
   ]
  },
  {
   "cell_type": "code",
   "execution_count": 89,
   "metadata": {},
   "outputs": [
    {
     "data": {
      "text/html": [
       "<div>\n",
       "<style scoped>\n",
       "    .dataframe tbody tr th:only-of-type {\n",
       "        vertical-align: middle;\n",
       "    }\n",
       "\n",
       "    .dataframe tbody tr th {\n",
       "        vertical-align: top;\n",
       "    }\n",
       "\n",
       "    .dataframe thead th {\n",
       "        text-align: right;\n",
       "    }\n",
       "</style>\n",
       "<table border=\"1\" class=\"dataframe\">\n",
       "  <thead>\n",
       "    <tr style=\"text-align: right;\">\n",
       "      <th></th>\n",
       "      <th>MissionsCOMPETENCES</th>\n",
       "    </tr>\n",
       "  </thead>\n",
       "  <tbody>\n",
       "    <tr>\n",
       "      <th>1</th>\n",
       "      <td>  gérer la contractualisation (avec les clien...</td>\n",
       "    </tr>\n",
       "    <tr>\n",
       "      <th>2</th>\n",
       "      <td>rédiger les contrats et avenants (en anglais e...</td>\n",
       "    </tr>\n",
       "    <tr>\n",
       "      <th>4</th>\n",
       "      <td>gérer la relation commerciale d'un ou plusieur...</td>\n",
       "    </tr>\n",
       "  </tbody>\n",
       "</table>\n",
       "</div>"
      ],
      "text/plain": [
       "                                 MissionsCOMPETENCES\n",
       "1    gérer la contractualisation (avec les clien...\n",
       "2  rédiger les contrats et avenants (en anglais e...\n",
       "4  gérer la relation commerciale d'un ou plusieur..."
      ]
     },
     "execution_count": 89,
     "metadata": {},
     "output_type": "execute_result"
    }
   ],
   "source": [
    "outputFiles.head(3)"
   ]
  },
  {
   "cell_type": "code",
   "execution_count": 90,
   "metadata": {},
   "outputs": [],
   "source": [
    "l=outputFiles.values.tolist()"
   ]
  },
  {
   "cell_type": "code",
   "execution_count": 91,
   "metadata": {},
   "outputs": [],
   "source": [
    "output=outputFiles\n"
   ]
  },
  {
   "cell_type": "code",
   "execution_count": 92,
   "metadata": {},
   "outputs": [
    {
     "data": {
      "text/plain": [
       "1      gérer la contractualisation (avec les clien...\n",
       "Name: MissionsCOMPETENCES, dtype: object"
      ]
     },
     "execution_count": 92,
     "metadata": {},
     "output_type": "execute_result"
    }
   ],
   "source": [
    "(output[0:1].MissionsCOMPETENCES)"
   ]
  },
  {
   "cell_type": "code",
   "execution_count": 93,
   "metadata": {},
   "outputs": [],
   "source": [
    "a=str(l[0])"
   ]
  },
  {
   "cell_type": "code",
   "execution_count": 94,
   "metadata": {},
   "outputs": [
    {
     "data": {
      "text/plain": [
       "['• apportez un support quotidien sur la rédaction et négociation des contrats, incluant notamment les contrats de tenue de compte - conservation, les conventions dépositaire, les contrats de réception transmission d\\'ordres sur opc, les contrats de gestion comptable, les contrats de correspondant centralisateur, les contrats \\x0cd\\'échange d\\'information et, dans ce cadre, vous réalisez toutes taches afférentes à ces négociations ;          • vous effectuez une veille juridique et règlementaire, essentiellement dans le domaine du droit bancaire et financier ;        •  vous rédigez des notes juridiques à destination des équipes commerciales et opérationnelles.      l\\'environnement de travail, c\\'est important ! le poste est à pourvoir en cdd dans le cadre d\\'un remplacement de congé maternité.  vous intégrez une équipe juridique de 5 personnes dédiée aux lignes clients « asset managers » et « asset owners ». rattaché(e) au responsable juridique de l\\'équipe, vous travaillez sur les prestations que bnp paribas securities services propose à ses clients \"investisseurs institutionnels\".   et après?  vous développez vos connaissances juridiques relatives au droit des titres et acquerrez des nouvelles connaissances relatives à l\\'activité de conservation.']"
      ]
     },
     "execution_count": 94,
     "metadata": {},
     "output_type": "execute_result"
    }
   ],
   "source": [
    "l[3]"
   ]
  },
  {
   "cell_type": "markdown",
   "metadata": {},
   "source": [
    "### Dictionaire Semantique"
   ]
  },
  {
   "cell_type": "code",
   "execution_count": null,
   "metadata": {},
   "outputs": [],
   "source": []
  },
  {
   "cell_type": "code",
   "execution_count": 99,
   "metadata": {},
   "outputs": [],
   "source": [
    "Dic={\n",
    "    \"Droit français\":[\"droit des contrats\",\"droit commercial\",\"droit des garanties\",\"droit fiscal des entreprises\",\n",
    "                      \"droit patrimonial\",\"régime matrimonial\",\"succession\",\"droit bancaire\"],\n",
    "    \"Droit bancaire\":[\"FBF\",\"ISDA\",\"Normes comptables\",\"IFRS\",\"AAP\",\"Droit financier\",\"code monétaire et financier\", \"CMF\"],\n",
    "    \"Produits bancaires\":[\"produits dérivés\", \"instruments financiers\" , \"produit d’investissement\",\n",
    "\"produits de placement\",\"produit de spéculation\",\"instrument de marchés\",\"produits structurés\",\"produits d’épargne\" , \"produits d’assurance\",\"émissions obligataires\" , \"titres de créance\",\n",
    "\"Opérations de marché\",\"Marchés financiers\"],\n",
    "    \"Fiscalité\":[\"l’impôt sur le revenu\" , \"IR\" ,\"l'impôt sur les sociétés\" ,\"IS\",\"impôts sur les bénéfices\",\n",
    "\"l’impôt de solidarité sur la fortune\",\"ISF\",\"la taxe sur la valeur ajoutée\",\"TVA\",\"la taxe intérieure sur les produits pétroliers\",\n",
    "                 \"TIPP\",\"code général des impôts\",\"CGI\",\"taxes\",\"CGS\",\"CRDS\"],\n",
    "    \"Risque bancaire\":[\"risque de marché\",\"risque opérationnel\", \"risque de contrepartie\",\"risque de crédit\",\n",
    "        \"Normes de réglementation\",\"FRTB\",\"BALE2\",\"BALE 2.5\",\"EMIR\",\"VAR\",\"LCR\",\"CVAR\",\"Expected Shortfall\",\"ES\"],\n",
    "    \"Outils informatiques\":[\"Microsoft Office\",\"Excel\",\"Outlook\",\"Access\",\"VBA\",\"Word\",\"bureautique\"],\n",
    "    \"Organisation\":[\"Agenda\",\"Rigueur\",\"planifier\",\"Travail en équipe\",\"Outlook\"],\n",
    "    \"Communication\":[\"Convaincre\",\"Relationnel\",\"collaboration\",\"réunions\",\"compte rendu\",\"Anglais Ecrit\" , \"Oral\"]\n",
    "        \n",
    "}"
   ]
  },
  {
   "cell_type": "code",
   "execution_count": 104,
   "metadata": {},
   "outputs": [],
   "source": [
    "def getAllCompetences(Dic):\n",
    "    allCompetences=[]\n",
    "    for cle, valeur in Dic.items():\n",
    "        for i in range(0,len(valeur)-1):\n",
    "            allCompetences.append(valeur[i])\n",
    "    return list(dict.fromkeys(allCompetences)) "
   ]
  },
  {
   "cell_type": "code",
   "execution_count": 95,
   "metadata": {},
   "outputs": [],
   "source": [
    "#Metrique de similarité"
   ]
  },
  {
   "cell_type": "code",
   "execution_count": 105,
   "metadata": {},
   "outputs": [],
   "source": [
    "from difflib import SequenceMatcher\n",
    "\n",
    "def similar(a, b):\n",
    "    return SequenceMatcher(None, a, b).ratio()"
   ]
  },
  {
   "cell_type": "code",
   "execution_count": null,
   "metadata": {},
   "outputs": [],
   "source": []
  },
  {
   "cell_type": "code",
   "execution_count": 106,
   "metadata": {},
   "outputs": [],
   "source": [
    "competencesCle=[]\n",
    "l=[]\n",
    "c=[]\n",
    "for index, row in output.iterrows():\n",
    "    ligne=row[\"MissionsCOMPETENCES\"]\n",
    "    \n",
    "    #listeCompetence=[]\n",
    "   \n",
    "    competences=[]\n",
    "    tokens = nltk.word_tokenize(str(ligne))\n",
    "    for cle, valeur in Dic.items():\n",
    "\n",
    "        for i in range(0,len(valeur)-1):\n",
    "            listeCompetence=[]\n",
    "            for j in range(0,len(tokens)-1):\n",
    "                #calculer la similarite: \n",
    "                if(similar(tokens[j].lower(),valeur[i].lower())>0.66):\n",
    "                    #listeCompetence.append(valeur[i])\n",
    "                    competences.append(valeur[i])\n",
    "    l.append(ligne)\n",
    "    c.append(competences)\n",
    "    #df=transformer(output,competencesCle,Dic)\n",
    "#return df\n",
    "competencesCle=dict(zip(l,c))"
   ]
  },
  {
   "cell_type": "code",
   "execution_count": 107,
   "metadata": {},
   "outputs": [],
   "source": [
    "liste=list(getAllCompetences(Dic))\n",
    "l=[]\n",
    "lo=[]\n",
    "onehotencoding=[]\n",
    "for cle,v in competencesCle.items():\n",
    "        find=[0]*len(liste)\n",
    "        for j in v:\n",
    "            l.append(liste.index(j))\n",
    "        for i in range(0,len(l)-1):\n",
    "            find[l[i]]=1\n",
    "        #lo.append([cle,find])\n",
    "        onehotencoding.append(find)"
   ]
  },
  {
   "cell_type": "code",
   "execution_count": 108,
   "metadata": {},
   "outputs": [],
   "source": [
    "gg=onehotencoding"
   ]
  },
  {
   "cell_type": "code",
   "execution_count": 109,
   "metadata": {},
   "outputs": [],
   "source": [
    "gg=np.array(onehotencoding)\n",
    "listeNew=gg.transpose( )"
   ]
  },
  {
   "cell_type": "code",
   "execution_count": 112,
   "metadata": {},
   "outputs": [],
   "source": [
    "d = dict.fromkeys(liste, 0)\n",
    "newdf=output.assign(**d)\n"
   ]
  },
  {
   "cell_type": "code",
   "execution_count": 114,
   "metadata": {},
   "outputs": [],
   "source": [
    "newdf[liste]=onehotencoding"
   ]
  },
  {
   "cell_type": "code",
   "execution_count": 115,
   "metadata": {},
   "outputs": [
    {
     "data": {
      "text/html": [
       "<div>\n",
       "<style scoped>\n",
       "    .dataframe tbody tr th:only-of-type {\n",
       "        vertical-align: middle;\n",
       "    }\n",
       "\n",
       "    .dataframe tbody tr th {\n",
       "        vertical-align: top;\n",
       "    }\n",
       "\n",
       "    .dataframe thead th {\n",
       "        text-align: right;\n",
       "    }\n",
       "</style>\n",
       "<table border=\"1\" class=\"dataframe\">\n",
       "  <thead>\n",
       "    <tr style=\"text-align: right;\">\n",
       "      <th></th>\n",
       "      <th>MissionsCOMPETENCES</th>\n",
       "      <th>droit des contrats</th>\n",
       "      <th>droit commercial</th>\n",
       "      <th>droit des garanties</th>\n",
       "      <th>droit fiscal des entreprises</th>\n",
       "      <th>droit patrimonial</th>\n",
       "      <th>régime matrimonial</th>\n",
       "      <th>succession</th>\n",
       "      <th>FBF</th>\n",
       "      <th>ISDA</th>\n",
       "      <th>...</th>\n",
       "      <th>Agenda</th>\n",
       "      <th>Rigueur</th>\n",
       "      <th>planifier</th>\n",
       "      <th>Travail en équipe</th>\n",
       "      <th>Convaincre</th>\n",
       "      <th>Relationnel</th>\n",
       "      <th>collaboration</th>\n",
       "      <th>réunions</th>\n",
       "      <th>compte rendu</th>\n",
       "      <th>Anglais Ecrit</th>\n",
       "    </tr>\n",
       "  </thead>\n",
       "  <tbody>\n",
       "    <tr>\n",
       "      <th>1</th>\n",
       "      <td>  gérer la contractualisation (avec les clien...</td>\n",
       "      <td>0</td>\n",
       "      <td>0</td>\n",
       "      <td>0</td>\n",
       "      <td>0</td>\n",
       "      <td>0</td>\n",
       "      <td>0</td>\n",
       "      <td>0</td>\n",
       "      <td>0</td>\n",
       "      <td>1</td>\n",
       "      <td>...</td>\n",
       "      <td>0</td>\n",
       "      <td>0</td>\n",
       "      <td>0</td>\n",
       "      <td>0</td>\n",
       "      <td>0</td>\n",
       "      <td>0</td>\n",
       "      <td>0</td>\n",
       "      <td>0</td>\n",
       "      <td>0</td>\n",
       "      <td>0</td>\n",
       "    </tr>\n",
       "    <tr>\n",
       "      <th>2</th>\n",
       "      <td>rédiger les contrats et avenants (en anglais e...</td>\n",
       "      <td>0</td>\n",
       "      <td>0</td>\n",
       "      <td>0</td>\n",
       "      <td>0</td>\n",
       "      <td>0</td>\n",
       "      <td>0</td>\n",
       "      <td>1</td>\n",
       "      <td>0</td>\n",
       "      <td>1</td>\n",
       "      <td>...</td>\n",
       "      <td>0</td>\n",
       "      <td>1</td>\n",
       "      <td>0</td>\n",
       "      <td>0</td>\n",
       "      <td>0</td>\n",
       "      <td>1</td>\n",
       "      <td>0</td>\n",
       "      <td>1</td>\n",
       "      <td>0</td>\n",
       "      <td>0</td>\n",
       "    </tr>\n",
       "    <tr>\n",
       "      <th>4</th>\n",
       "      <td>gérer la relation commerciale d'un ou plusieur...</td>\n",
       "      <td>0</td>\n",
       "      <td>1</td>\n",
       "      <td>0</td>\n",
       "      <td>0</td>\n",
       "      <td>0</td>\n",
       "      <td>0</td>\n",
       "      <td>1</td>\n",
       "      <td>0</td>\n",
       "      <td>1</td>\n",
       "      <td>...</td>\n",
       "      <td>0</td>\n",
       "      <td>1</td>\n",
       "      <td>0</td>\n",
       "      <td>0</td>\n",
       "      <td>0</td>\n",
       "      <td>1</td>\n",
       "      <td>0</td>\n",
       "      <td>1</td>\n",
       "      <td>0</td>\n",
       "      <td>1</td>\n",
       "    </tr>\n",
       "    <tr>\n",
       "      <th>11</th>\n",
       "      <td>• apportez un support quotidien sur la rédacti...</td>\n",
       "      <td>0</td>\n",
       "      <td>1</td>\n",
       "      <td>0</td>\n",
       "      <td>0</td>\n",
       "      <td>0</td>\n",
       "      <td>0</td>\n",
       "      <td>1</td>\n",
       "      <td>0</td>\n",
       "      <td>1</td>\n",
       "      <td>...</td>\n",
       "      <td>0</td>\n",
       "      <td>1</td>\n",
       "      <td>0</td>\n",
       "      <td>0</td>\n",
       "      <td>1</td>\n",
       "      <td>1</td>\n",
       "      <td>0</td>\n",
       "      <td>1</td>\n",
       "      <td>0</td>\n",
       "      <td>1</td>\n",
       "    </tr>\n",
       "    <tr>\n",
       "      <th>17</th>\n",
       "      <td>son activité est de traiter toutes les questio...</td>\n",
       "      <td>0</td>\n",
       "      <td>1</td>\n",
       "      <td>0</td>\n",
       "      <td>0</td>\n",
       "      <td>0</td>\n",
       "      <td>0</td>\n",
       "      <td>1</td>\n",
       "      <td>0</td>\n",
       "      <td>1</td>\n",
       "      <td>...</td>\n",
       "      <td>0</td>\n",
       "      <td>1</td>\n",
       "      <td>0</td>\n",
       "      <td>0</td>\n",
       "      <td>1</td>\n",
       "      <td>1</td>\n",
       "      <td>0</td>\n",
       "      <td>1</td>\n",
       "      <td>1</td>\n",
       "      <td>1</td>\n",
       "    </tr>\n",
       "    <tr>\n",
       "      <th>18</th>\n",
       "      <td>élaborer les modèles de règlements, d’accords,...</td>\n",
       "      <td>0</td>\n",
       "      <td>1</td>\n",
       "      <td>0</td>\n",
       "      <td>0</td>\n",
       "      <td>0</td>\n",
       "      <td>0</td>\n",
       "      <td>1</td>\n",
       "      <td>0</td>\n",
       "      <td>1</td>\n",
       "      <td>...</td>\n",
       "      <td>0</td>\n",
       "      <td>1</td>\n",
       "      <td>0</td>\n",
       "      <td>0</td>\n",
       "      <td>1</td>\n",
       "      <td>1</td>\n",
       "      <td>1</td>\n",
       "      <td>1</td>\n",
       "      <td>1</td>\n",
       "      <td>1</td>\n",
       "    </tr>\n",
       "    <tr>\n",
       "      <th>19</th>\n",
       "      <td>conseiller et assister le secrétariat général,...</td>\n",
       "      <td>0</td>\n",
       "      <td>1</td>\n",
       "      <td>0</td>\n",
       "      <td>0</td>\n",
       "      <td>0</td>\n",
       "      <td>0</td>\n",
       "      <td>1</td>\n",
       "      <td>0</td>\n",
       "      <td>1</td>\n",
       "      <td>...</td>\n",
       "      <td>0</td>\n",
       "      <td>1</td>\n",
       "      <td>0</td>\n",
       "      <td>0</td>\n",
       "      <td>1</td>\n",
       "      <td>1</td>\n",
       "      <td>1</td>\n",
       "      <td>1</td>\n",
       "      <td>1</td>\n",
       "      <td>1</td>\n",
       "    </tr>\n",
       "    <tr>\n",
       "      <th>23</th>\n",
       "      <td>rédiger et négocier la documentation juridique...</td>\n",
       "      <td>0</td>\n",
       "      <td>1</td>\n",
       "      <td>0</td>\n",
       "      <td>0</td>\n",
       "      <td>0</td>\n",
       "      <td>0</td>\n",
       "      <td>1</td>\n",
       "      <td>0</td>\n",
       "      <td>1</td>\n",
       "      <td>...</td>\n",
       "      <td>0</td>\n",
       "      <td>1</td>\n",
       "      <td>0</td>\n",
       "      <td>0</td>\n",
       "      <td>1</td>\n",
       "      <td>1</td>\n",
       "      <td>1</td>\n",
       "      <td>1</td>\n",
       "      <td>1</td>\n",
       "      <td>1</td>\n",
       "    </tr>\n",
       "    <tr>\n",
       "      <th>24</th>\n",
       "      <td>d’expérience</td>\n",
       "      <td>0</td>\n",
       "      <td>1</td>\n",
       "      <td>0</td>\n",
       "      <td>0</td>\n",
       "      <td>0</td>\n",
       "      <td>0</td>\n",
       "      <td>1</td>\n",
       "      <td>0</td>\n",
       "      <td>1</td>\n",
       "      <td>...</td>\n",
       "      <td>0</td>\n",
       "      <td>1</td>\n",
       "      <td>0</td>\n",
       "      <td>0</td>\n",
       "      <td>1</td>\n",
       "      <td>1</td>\n",
       "      <td>1</td>\n",
       "      <td>1</td>\n",
       "      <td>1</td>\n",
       "      <td>1</td>\n",
       "    </tr>\n",
       "    <tr>\n",
       "      <th>36</th>\n",
       "      <td>compréhension des enjeux et des métiers des pé...</td>\n",
       "      <td>0</td>\n",
       "      <td>1</td>\n",
       "      <td>0</td>\n",
       "      <td>0</td>\n",
       "      <td>0</td>\n",
       "      <td>0</td>\n",
       "      <td>1</td>\n",
       "      <td>0</td>\n",
       "      <td>1</td>\n",
       "      <td>...</td>\n",
       "      <td>0</td>\n",
       "      <td>1</td>\n",
       "      <td>0</td>\n",
       "      <td>0</td>\n",
       "      <td>1</td>\n",
       "      <td>1</td>\n",
       "      <td>1</td>\n",
       "      <td>1</td>\n",
       "      <td>1</td>\n",
       "      <td>1</td>\n",
       "    </tr>\n",
       "    <tr>\n",
       "      <th>42</th>\n",
       "      <td>identifier les risques contractuels et les eng...</td>\n",
       "      <td>0</td>\n",
       "      <td>1</td>\n",
       "      <td>0</td>\n",
       "      <td>0</td>\n",
       "      <td>0</td>\n",
       "      <td>0</td>\n",
       "      <td>1</td>\n",
       "      <td>0</td>\n",
       "      <td>1</td>\n",
       "      <td>...</td>\n",
       "      <td>0</td>\n",
       "      <td>1</td>\n",
       "      <td>0</td>\n",
       "      <td>0</td>\n",
       "      <td>1</td>\n",
       "      <td>1</td>\n",
       "      <td>1</td>\n",
       "      <td>1</td>\n",
       "      <td>1</td>\n",
       "      <td>1</td>\n",
       "    </tr>\n",
       "  </tbody>\n",
       "</table>\n",
       "<p>11 rows × 71 columns</p>\n",
       "</div>"
      ],
      "text/plain": [
       "                                  MissionsCOMPETENCES  droit des contrats  \\\n",
       "1     gérer la contractualisation (avec les clien...                   0   \n",
       "2   rédiger les contrats et avenants (en anglais e...                   0   \n",
       "4   gérer la relation commerciale d'un ou plusieur...                   0   \n",
       "11  • apportez un support quotidien sur la rédacti...                   0   \n",
       "17  son activité est de traiter toutes les questio...                   0   \n",
       "18  élaborer les modèles de règlements, d’accords,...                   0   \n",
       "19  conseiller et assister le secrétariat général,...                   0   \n",
       "23  rédiger et négocier la documentation juridique...                   0   \n",
       "24                                       d’expérience                   0   \n",
       "36  compréhension des enjeux et des métiers des pé...                   0   \n",
       "42  identifier les risques contractuels et les eng...                   0   \n",
       "\n",
       "    droit commercial  droit des garanties  droit fiscal des entreprises  \\\n",
       "1                  0                    0                             0   \n",
       "2                  0                    0                             0   \n",
       "4                  1                    0                             0   \n",
       "11                 1                    0                             0   \n",
       "17                 1                    0                             0   \n",
       "18                 1                    0                             0   \n",
       "19                 1                    0                             0   \n",
       "23                 1                    0                             0   \n",
       "24                 1                    0                             0   \n",
       "36                 1                    0                             0   \n",
       "42                 1                    0                             0   \n",
       "\n",
       "    droit patrimonial  régime matrimonial  succession  FBF  ISDA  ...  Agenda  \\\n",
       "1                   0                   0           0    0     1  ...       0   \n",
       "2                   0                   0           1    0     1  ...       0   \n",
       "4                   0                   0           1    0     1  ...       0   \n",
       "11                  0                   0           1    0     1  ...       0   \n",
       "17                  0                   0           1    0     1  ...       0   \n",
       "18                  0                   0           1    0     1  ...       0   \n",
       "19                  0                   0           1    0     1  ...       0   \n",
       "23                  0                   0           1    0     1  ...       0   \n",
       "24                  0                   0           1    0     1  ...       0   \n",
       "36                  0                   0           1    0     1  ...       0   \n",
       "42                  0                   0           1    0     1  ...       0   \n",
       "\n",
       "    Rigueur  planifier  Travail en équipe  Convaincre  Relationnel  \\\n",
       "1         0          0                  0           0            0   \n",
       "2         1          0                  0           0            1   \n",
       "4         1          0                  0           0            1   \n",
       "11        1          0                  0           1            1   \n",
       "17        1          0                  0           1            1   \n",
       "18        1          0                  0           1            1   \n",
       "19        1          0                  0           1            1   \n",
       "23        1          0                  0           1            1   \n",
       "24        1          0                  0           1            1   \n",
       "36        1          0                  0           1            1   \n",
       "42        1          0                  0           1            1   \n",
       "\n",
       "    collaboration  réunions  compte rendu  Anglais Ecrit  \n",
       "1               0         0             0              0  \n",
       "2               0         1             0              0  \n",
       "4               0         1             0              1  \n",
       "11              0         1             0              1  \n",
       "17              0         1             1              1  \n",
       "18              1         1             1              1  \n",
       "19              1         1             1              1  \n",
       "23              1         1             1              1  \n",
       "24              1         1             1              1  \n",
       "36              1         1             1              1  \n",
       "42              1         1             1              1  \n",
       "\n",
       "[11 rows x 71 columns]"
      ]
     },
     "execution_count": 115,
     "metadata": {},
     "output_type": "execute_result"
    }
   ],
   "source": [
    "newdf"
   ]
  },
  {
   "cell_type": "code",
   "execution_count": 116,
   "metadata": {},
   "outputs": [],
   "source": [
    "newdf.to_csv(\"final_output_andex.csv\")"
   ]
  },
  {
   "cell_type": "code",
   "execution_count": null,
   "metadata": {},
   "outputs": [],
   "source": []
  }
 ],
 "metadata": {
  "kernelspec": {
   "display_name": "Python 3",
   "language": "python",
   "name": "python3"
  },
  "language_info": {
   "codemirror_mode": {
    "name": "ipython",
    "version": 3
   },
   "file_extension": ".py",
   "mimetype": "text/x-python",
   "name": "python",
   "nbconvert_exporter": "python",
   "pygments_lexer": "ipython3",
   "version": "3.7.3"
  }
 },
 "nbformat": 4,
 "nbformat_minor": 2
}
